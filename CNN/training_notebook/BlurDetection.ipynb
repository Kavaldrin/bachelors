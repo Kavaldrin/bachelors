{
  "nbformat": 4,
  "nbformat_minor": 0,
  "metadata": {
    "colab": {
      "name": "BlurDetection",
      "provenance": [],
      "collapsed_sections": [],
      "machine_shape": "hm"
    },
    "kernelspec": {
      "name": "python3",
      "display_name": "Python 3"
    },
    "accelerator": "GPU"
  },
  "cells": [
    {
      "cell_type": "code",
      "metadata": {
        "id": "XmaAitlXF_MN",
        "colab_type": "code",
        "colab": {}
      },
      "source": [
        "from google.colab import drive"
      ],
      "execution_count": 0,
      "outputs": []
    },
    {
      "cell_type": "code",
      "metadata": {
        "id": "3l9rVy2IPrH1",
        "colab_type": "code",
        "colab": {}
      },
      "source": [
        "drive.mount('/content/gdrive')"
      ],
      "execution_count": 0,
      "outputs": []
    },
    {
      "cell_type": "code",
      "metadata": {
        "id": "eHARW8_SP-la",
        "colab_type": "code",
        "colab": {}
      },
      "source": [
        "import torchvision\n",
        "import torch\n",
        "from torchvision import transforms\n"
      ],
      "execution_count": 0,
      "outputs": []
    },
    {
      "cell_type": "markdown",
      "metadata": {
        "id": "ULo6AuMU07kM",
        "colab_type": "text"
      },
      "source": [
        ""
      ]
    },
    {
      "cell_type": "code",
      "metadata": {
        "id": "QPqrZ3bpQD3m",
        "colab_type": "code",
        "colab": {}
      },
      "source": [
        "images = torchvision.datasets.ImageFolder(\"/content/gdrive/My Drive/blur_detection/TrainingSet/Undistorted\", transform = transforms.TenCrop(64) )\n",
        "raw_images = torchvision.datasets.ImageFolder(\"/content/gdrive/My Drive/blur_detection/TrainingSet/Undistorted\", transform = transforms.TenCrop(64))\n",
        "org_blurred = torchvision.datasets.ImageFolder(\"/content/gdrive/My Drive/blur_detection/TrainingSet/Naturally-Blurred\", transform = transforms.FiveCrop(64))\n",
        "art_blurred = torchvision.datasets.ImageFolder(\"/content/gdrive/My Drive/blur_detection/TrainingSet/Artificially-Blurred\", transform = transforms.FiveCrop(64))"
      ],
      "execution_count": 0,
      "outputs": []
    },
    {
      "cell_type": "code",
      "metadata": {
        "id": "YVMkiz7xQniT",
        "colab_type": "code",
        "colab": {}
      },
      "source": [
        "# X_train = [x for (x, y) in images]\n",
        "# Y_target = [1 if x == 0 or x == 1 else 0 for (x, y) in images]\n",
        "from torch.utils.data import random_split\n",
        "from PIL import ImageFilter\n",
        "#0 - sharp\n",
        "#1 - blurred\n",
        "\n",
        "dataset = []\n",
        "default_transforms = transforms.Compose([transforms.ToTensor(), transforms.Normalize((0.5 , 0.5, 0.5), (0.5, 0.5, 0.5))])\n",
        "\n",
        "for (x, y) in images:\n",
        "  for tnsr in x:\n",
        "    dataset.append([default_transforms(tnsr), 0])\n",
        "\n",
        "for (x, y) in raw_images:\n",
        "  for tnsr in x:\n",
        "    img = tnsr.filter(ImageFilter.BLUR).copy()\n",
        "    dataset.append([default_transforms(img), 1])\n",
        "\n",
        "for (x, y) in org_blurred:\n",
        "  for tnsr in x:\n",
        "    dataset.append([default_transforms(tnsr), 1])\n",
        "\n",
        "\n",
        "for (x, y) in art_blurred:\n",
        "  for tnsr in x:\n",
        "    dataset.append([default_transforms(tnsr), 1])\n",
        "\n",
        "\n",
        "train_dataset, test_dataset = random_split(dataset, [int(len(dataset) * 0.8), int(len(dataset) * 0.2)])"
      ],
      "execution_count": 0,
      "outputs": []
    },
    {
      "cell_type": "code",
      "metadata": {
        "id": "3AygaiF76B8t",
        "colab_type": "code",
        "colab": {}
      },
      "source": [
        "print(images[0])\n",
        "print(dataset[4])"
      ],
      "execution_count": 0,
      "outputs": []
    },
    {
      "cell_type": "code",
      "metadata": {
        "id": "LAFv-cvegtHu",
        "colab_type": "code",
        "colab": {}
      },
      "source": [
        "import torch.utils.data as data\n",
        "train_loader = data.DataLoader(dataset = train_dataset, batch_size = 50, shuffle = True)\n",
        "test_lodaer = data.DataLoader(dataset = test_dataset, batch_size = 100, shuffle = True)"
      ],
      "execution_count": 0,
      "outputs": []
    },
    {
      "cell_type": "code",
      "metadata": {
        "id": "rnVaXt-5WyaZ",
        "colab_type": "code",
        "colab": {}
      },
      "source": [
        "import torch.nn as nn\n",
        "import torch.nn.functional as F"
      ],
      "execution_count": 0,
      "outputs": []
    },
    {
      "cell_type": "code",
      "metadata": {
        "id": "c2LRN1v9XBbs",
        "colab_type": "code",
        "colab": {}
      },
      "source": [
        "class BlurDetector(nn.Module):\n",
        "  def __init__(self):\n",
        "    super(BlurDetector, self).__init__()\n",
        "    self.conv1 = nn.Conv2d(in_channels = 3, out_channels = 12, kernel_size = 7, stride = 1, padding = 1)\n",
        "    self.relu1 = nn.LeakyReLU()\n",
        "    self.maxpool1 = nn.MaxPool2d(kernel_size = 2)\n",
        "    self.dropout1 = nn.Dropout(0.2)\n",
        "  \n",
        "    self.conv2 = nn.Conv2d(in_channels = 12, out_channels = 36, kernel_size = 5, stride = 1, padding = 1)\n",
        "    self.relu2 = nn.LeakyReLU()\n",
        "    self.maxpool2 = nn.MaxPool2d(kernel_size = 2)\n",
        "    self.dropout2 = nn.Dropout(0.2)\n",
        "\n",
        "    self.conv3 = nn.Conv2d(in_channels = 36, out_channels = 108, kernel_size = 3, stride = 1, padding = 1)\n",
        "    self.relu3 = nn.LeakyReLU()\n",
        "    self.maxpool3 = nn.MaxPool2d(kernel_size = 2)\n",
        "    self.dropout3 = nn.Dropout(0.2)\n",
        "\n",
        "    self.relu4 = nn.LeakyReLU()\n",
        "\n",
        "    self.sigmoid = nn.Sigmoid()\n",
        "\n",
        "    # self.lf = nn.Linear(in_features = 7 * 7 * 108, out_features = 2)\n",
        "    self.lf = nn.Linear(in_features = 14 * 14 * 36, out_features = 2)\n",
        "    self.softmax = nn.Softmax()\n",
        "\n",
        "  def forward(self, input):\n",
        "\n",
        "    output = self.conv1(input)\n",
        "    output = self.relu1(output)\n",
        "    output = self.maxpool1(output)\n",
        "    output = self.dropout1(output)\n",
        "\n",
        "    output = self.conv2(output)\n",
        "    output = self.relu2(output)\n",
        "    output = self.maxpool2(output)\n",
        "    output = self.dropout2(output)\n",
        "\n",
        "    # output = self.conv3(output)\n",
        "    # output = self.relu3(output)\n",
        "    # output = self.maxpool3(output)\n",
        "    #output = self.dropout3(output)\n",
        "    \n",
        "    output = self.relu4(output)\n",
        "    # output = output.view(-1, 7 * 7 * 108)\n",
        "    output = output.view(-1, 14 * 14 * 36)\n",
        "\n",
        "    output = self.lf(output)\n",
        "    \n",
        "    #output = self.softmax(output)\n",
        "    #output = self.sigmoid(output)\n",
        "\n",
        "    return output\n",
        "\n",
        "  def pokazTensor(self, input):\n",
        "    print(input)\n",
        "\n",
        "blurDetector = BlurDetector()\n"
      ],
      "execution_count": 0,
      "outputs": []
    },
    {
      "cell_type": "code",
      "metadata": {
        "id": "6d8aBEPYXk_U",
        "colab_type": "code",
        "colab": {}
      },
      "source": [
        "import torch.optim as optim\n",
        "\n",
        "loss_fun = nn.CrossEntropyLoss()\n",
        "optimizer = optim.Adam(blurDetector.parameters())\n",
        "#optimizer = optim.SGD(blurDetector.parameters(), lr = 0.1, momentum = 0.9 )\n",
        "##optimizer = optim.ASGD(blurDetector.parameters())"
      ],
      "execution_count": 0,
      "outputs": []
    },
    {
      "cell_type": "code",
      "metadata": {
        "id": "KvUJ0kXgXoZA",
        "colab_type": "code",
        "outputId": "9166cbeb-043c-4198-ba93-c2c1a7337f2e",
        "colab": {
          "base_uri": "https://localhost:8080/",
          "height": 1000
        }
      },
      "source": [
        "\n",
        "counter = 0\n",
        "for epoch in range(9):\n",
        "  print('Epoch ' + str(epoch))\n",
        "\n",
        "  blurDetector.train()\n",
        "\n",
        "  for i, (imgs, labels) in enumerate(train_loader):\n",
        "\n",
        "    optimizer.zero_grad()\n",
        "    outputs = blurDetector(imgs)\n",
        "    loss = loss_fun(outputs, labels)\n",
        "    loss.backward()\n",
        "    optimizer.step()\n",
        "\n",
        "\n",
        "    counter += 1\n",
        "    if(not (counter % 100)):\n",
        "      test_acc_count = 0\n",
        "      for k, (test_imgs, test_labels) in enumerate(train_loader):\n",
        "        test_outputs = blurDetector(test_imgs)\n",
        "        _, prediction = torch.max(test_outputs.data, 1)\n",
        "        test_acc_count += torch.sum(prediction == test_labels.data).item()\n",
        "\n",
        "      test_accuracy = test_acc_count / len(train_dataset)\n",
        "      print(\"Train data: Accuracy\", test_accuracy)\n",
        "      print(\"Train data: Loss\", loss.item())\n",
        "\n",
        "      test_acc_count = 0\n",
        "      for k, (test_imgs, test_labels) in enumerate(test_lodaer):\n",
        "        test_outputs = blurDetector(test_imgs)\n",
        "        _, prediction = torch.max(test_outputs.data, 1)\n",
        "        test_acc_count += torch.sum(prediction == test_labels.data).item()\n",
        "\n",
        "      test_accuracy = test_acc_count / len(test_dataset)\n",
        "      print(\"Test data: Accuracy\", test_accuracy)\n",
        "      print(\"Test data: Loss\", loss.item())\n",
        "\n",
        "\n",
        "\n",
        "\n",
        "\n",
        "print('Finished Training')"
      ],
      "execution_count": 0,
      "outputs": [
        {
          "output_type": "stream",
          "text": [
            "Epoch 0\n",
            "Train data: Accuracy 0.5759515570934256\n",
            "Train data: Loss 0.6771106123924255\n",
            "Test data: Accuracy 0.5788927335640138\n",
            "Test data: Loss 0.6771106123924255\n",
            "Train data: Accuracy 0.5598615916955018\n",
            "Train data: Loss 0.711914598941803\n",
            "Test data: Accuracy 0.5709342560553633\n",
            "Test data: Loss 0.711914598941803\n",
            "Epoch 1\n",
            "Train data: Accuracy 0.6136678200692042\n",
            "Train data: Loss 0.6126881837844849\n",
            "Test data: Accuracy 0.6186851211072665\n",
            "Test data: Loss 0.6126881837844849\n",
            "Train data: Accuracy 0.6161764705882353\n",
            "Train data: Loss 0.608364462852478\n",
            "Test data: Accuracy 0.6131487889273356\n",
            "Test data: Loss 0.608364462852478\n",
            "Epoch 2\n",
            "Train data: Accuracy 0.6417820069204152\n",
            "Train data: Loss 0.6135594248771667\n",
            "Test data: Accuracy 0.6370242214532872\n",
            "Test data: Loss 0.6135594248771667\n",
            "Train data: Accuracy 0.5980968858131488\n",
            "Train data: Loss 0.6358479857444763\n",
            "Test data: Accuracy 0.5955017301038062\n",
            "Test data: Loss 0.6358479857444763\n",
            "Epoch 3\n",
            "Train data: Accuracy 0.6671280276816609\n",
            "Train data: Loss 0.5886031985282898\n",
            "Test data: Accuracy 0.6550173010380623\n",
            "Test data: Loss 0.5886031985282898\n",
            "Train data: Accuracy 0.6726643598615917\n",
            "Train data: Loss 0.6423467993736267\n",
            "Test data: Accuracy 0.6678200692041523\n",
            "Test data: Loss 0.6423467993736267\n",
            "Train data: Accuracy 0.6364186851211072\n",
            "Train data: Loss 0.6364642381668091\n",
            "Test data: Accuracy 0.629757785467128\n",
            "Test data: Loss 0.6364642381668091\n",
            "Epoch 4\n",
            "Train data: Accuracy 0.6810553633217993\n",
            "Train data: Loss 0.6052663922309875\n",
            "Test data: Accuracy 0.6588235294117647\n",
            "Test data: Loss 0.6052663922309875\n",
            "Train data: Accuracy 0.6794117647058824\n",
            "Train data: Loss 0.6093704700469971\n",
            "Test data: Accuracy 0.6674740484429066\n",
            "Test data: Loss 0.6093704700469971\n",
            "Epoch 5\n",
            "Train data: Accuracy 0.6734429065743944\n",
            "Train data: Loss 0.519493043422699\n",
            "Test data: Accuracy 0.6674740484429066\n",
            "Test data: Loss 0.519493043422699\n",
            "Train data: Accuracy 0.657871972318339\n",
            "Train data: Loss 0.6341511011123657\n",
            "Test data: Accuracy 0.654325259515571\n",
            "Test data: Loss 0.6341511011123657\n",
            "Epoch 6\n",
            "Train data: Accuracy 0.6748269896193771\n",
            "Train data: Loss 0.5445826053619385\n",
            "Test data: Accuracy 0.671280276816609\n",
            "Test data: Loss 0.5445826053619385\n",
            "Train data: Accuracy 0.7129757785467128\n",
            "Train data: Loss 0.647653341293335\n",
            "Test data: Accuracy 0.697923875432526\n",
            "Test data: Loss 0.647653341293335\n",
            "Train data: Accuracy 0.7119377162629758\n",
            "Train data: Loss 0.4850497543811798\n",
            "Test data: Accuracy 0.7100346020761246\n",
            "Test data: Loss 0.4850497543811798\n",
            "Epoch 7\n",
            "Train data: Accuracy 0.735121107266436\n",
            "Train data: Loss 0.557405412197113\n",
            "Test data: Accuracy 0.7249134948096886\n",
            "Test data: Loss 0.557405412197113\n",
            "Train data: Accuracy 0.7098615916955018\n",
            "Train data: Loss 0.5371918082237244\n",
            "Test data: Accuracy 0.701038062283737\n",
            "Test data: Loss 0.5371918082237244\n",
            "Epoch 8\n",
            "Train data: Accuracy 0.7188581314878892\n",
            "Train data: Loss 0.6104182600975037\n",
            "Test data: Accuracy 0.7093425605536332\n",
            "Test data: Loss 0.6104182600975037\n",
            "Train data: Accuracy 0.7346020761245675\n",
            "Train data: Loss 0.4803585410118103\n",
            "Test data: Accuracy 0.7262975778546713\n",
            "Test data: Loss 0.4803585410118103\n",
            "Finished Training\n"
          ],
          "name": "stdout"
        }
      ]
    },
    {
      "cell_type": "code",
      "metadata": {
        "id": "g9p0UAQePKIZ",
        "colab_type": "code",
        "outputId": "fc91aa4e-68fd-4373-c733-1611419f4926",
        "colab": {
          "base_uri": "https://localhost:8080/",
          "height": 34
        }
      },
      "source": [
        "blurDetector.eval()\n",
        "test_acc_count = 0\n",
        "for k, (test_imgs, test_labels) in enumerate(test_lodaer):\n",
        "  #print(test_imgs)\n",
        "  test_outputs = blurDetector(test_imgs)\n",
        "  _, prediction = torch.max(test_outputs.data, 1)\n",
        "  #print(torch.max(test_outputs.data, 1))\n",
        "  test_acc_count += torch.sum(prediction == test_labels.data).item()\n",
        "\n",
        "test_accuracy = test_acc_count / len(test_dataset)\n",
        "test_accuracy\n"
      ],
      "execution_count": 0,
      "outputs": [
        {
          "output_type": "execute_result",
          "data": {
            "text/plain": [
              "0.683044982698962"
            ]
          },
          "metadata": {
            "tags": []
          },
          "execution_count": 61
        }
      ]
    },
    {
      "cell_type": "code",
      "metadata": {
        "id": "eMI17vg_B5fA",
        "colab_type": "code",
        "outputId": "b8b5f173-fa44-4855-d17e-6480c541bb24",
        "colab": {
          "base_uri": "https://localhost:8080/",
          "height": 34
        }
      },
      "source": [
        "print(\"Manual testing\")"
      ],
      "execution_count": 0,
      "outputs": [
        {
          "output_type": "stream",
          "text": [
            "Manual testing\n"
          ],
          "name": "stdout"
        }
      ]
    },
    {
      "cell_type": "code",
      "metadata": {
        "id": "xbrqI_F8n4Fx",
        "colab_type": "code",
        "outputId": "4c04c35a-b560-4169-cda4-256a86c9c349",
        "colab": {
          "base_uri": "https://localhost:8080/",
          "height": 255
        }
      },
      "source": [
        "\n",
        "detector = torch.jit.load(\"/content/gdrive/My Drive/blur_detection/blurDetector.pt\")\n",
        "detector.eval()"
      ],
      "execution_count": 0,
      "outputs": [
        {
          "output_type": "execute_result",
          "data": {
            "text/plain": [
              "ScriptModule(\n",
              "  original_name=BlurDetector\n",
              "  (conv1): ScriptModule(original_name=Conv2d)\n",
              "  (relu1): ScriptModule(original_name=LeakyReLU)\n",
              "  (maxpool1): ScriptModule(original_name=MaxPool2d)\n",
              "  (conv2): ScriptModule(original_name=Conv2d)\n",
              "  (relu2): ScriptModule(original_name=LeakyReLU)\n",
              "  (maxpool2): ScriptModule(original_name=MaxPool2d)\n",
              "  (conv3): ScriptModule(original_name=Conv2d)\n",
              "  (relu3): ScriptModule(original_name=LeakyReLU)\n",
              "  (maxpool3): ScriptModule(original_name=MaxPool2d)\n",
              "  (relu4): ScriptModule(original_name=LeakyReLU)\n",
              "  (lf): ScriptModule(original_name=Linear)\n",
              ")"
            ]
          },
          "metadata": {
            "tags": []
          },
          "execution_count": 340
        }
      ]
    },
    {
      "cell_type": "code",
      "metadata": {
        "id": "6uH9KLsyxEHR",
        "colab_type": "code",
        "colab": {}
      },
      "source": [
        "from PIL import Image\n",
        "testFullSizes = []\n",
        "testFullSizes.append( Image.open(\"/content/gdrive/My Drive/blur_detection/blurred.jpg\") )\n",
        "testFullSizes.append( Image.open(\"/content/gdrive/My Drive/blur_detection/blurred_max.jpg\") )\n",
        "testFullSizes.append( Image.open(\"/content/gdrive/My Drive/blur_detection/test.jpg\") )\n",
        "testFullSizes.append( Image.open(\"/content/gdrive/My Drive/blur_detection/hq2.jpg\") )\n",
        "testFullSizes.append( Image.open(\"/content/gdrive/My Drive/blur_detection/sharp.jpg\") )\n",
        "testFullSizes.append( Image.open(\"/content/gdrive/My Drive/blur_detection/treningowe.jpg\") )\n",
        "testFullSizes.append( Image.open(\"/content/gdrive/My Drive/blur_detection/treningowe2.jpg\") )\n",
        "testFullSizes.append( Image.open(\"/content/gdrive/My Drive/blur_detection/treningowe3.jpg\") )\n",
        "testFullSizes.append( Image.open(\"/content/gdrive/My Drive/blur_detection/pies.jpg\") )\n",
        "testFullSizes.append( Image.open(\"/content/gdrive/My Drive/blur_detection/small_sharp.jpg\") )\n",
        "\n",
        "\n",
        "slicedTensors = []\n",
        "trs = transforms.Compose ( [transforms.ToTensor(), transforms.Normalize((0.5 , 0.5, 0.5), (0.5, 0.5, 0.5))] )\n",
        "\n",
        "for idx, img in enumerate(testFullSizes):\n",
        "  imgwidth, imgheight = img.size\n",
        "  img = img.resize( (imgwidth - imgwidth % 64, imgheight - imgheight % 64))\n",
        "  slicedTensors.append([])\n",
        "\n",
        "  imgwidth, imgheight = img.size\n",
        "  for i in range(0, imgheight, 64):\n",
        "    for j in range(0, imgwidth, 64):\n",
        "      box = (j, i, j + 64, i + 64)\n",
        "      cropped = img.crop(box).copy()\n",
        "      slicedTensors[idx].append(trs(cropped))\n",
        "\n",
        "\n",
        "\n"
      ],
      "execution_count": 0,
      "outputs": []
    },
    {
      "cell_type": "code",
      "metadata": {
        "id": "fOqVnWlQ1IyT",
        "colab_type": "code",
        "outputId": "4a7a993a-4cbe-426d-afe4-fbd4e0034aeb",
        "colab": {
          "base_uri": "https://localhost:8080/",
          "height": 697
        }
      },
      "source": [
        "\n",
        "\n",
        "for idx, bigSlc in enumerate(slicedTensors):\n",
        "  result = []\n",
        "\n",
        "  #print(len(bigSlc))\n",
        "  for slc in bigSlc:\n",
        "    one_img = slc\n",
        "    one_img = one_img[None]\n",
        "    one_img = one_img.type('torch.FloatTensor')\n",
        "    output_img = blurDetector(one_img)\n",
        "    #print(output_img)\n",
        "    _, prediction = torch.max(output_img.data, 1)\n",
        "    result.extend(prediction.tolist())\n",
        "  \n",
        "  print(\"Index of image: \", idx)\n",
        "  print(\"Sharp segments: \", result.count(0))\n",
        "  print(\"Blurred segments: \", result.count(1))\n",
        "  print(\"\")"
      ],
      "execution_count": 0,
      "outputs": [
        {
          "output_type": "stream",
          "text": [
            "Index of image:  0\n",
            "Sharp segments:  58\n",
            "Blurred segments:  452\n",
            "\n",
            "Index of image:  1\n",
            "Sharp segments:  0\n",
            "Blurred segments:  91\n",
            "\n",
            "Index of image:  2\n",
            "Sharp segments:  60\n",
            "Blurred segments:  196\n",
            "\n",
            "Index of image:  3\n",
            "Sharp segments:  135\n",
            "Blurred segments:  57\n",
            "\n",
            "Index of image:  4\n",
            "Sharp segments:  30\n",
            "Blurred segments:  5\n",
            "\n",
            "Index of image:  5\n",
            "Sharp segments:  159\n",
            "Blurred segments:  813\n",
            "\n",
            "Index of image:  6\n",
            "Sharp segments:  467\n",
            "Blurred segments:  1261\n",
            "\n",
            "Index of image:  7\n",
            "Sharp segments:  10\n",
            "Blurred segments:  1718\n",
            "\n",
            "Index of image:  8\n",
            "Sharp segments:  3\n",
            "Blurred segments:  1935\n",
            "\n",
            "Index of image:  9\n",
            "Sharp segments:  17\n",
            "Blurred segments:  133\n",
            "\n"
          ],
          "name": "stdout"
        }
      ]
    },
    {
      "cell_type": "code",
      "metadata": {
        "id": "11MYE20q_8ZW",
        "colab_type": "code",
        "outputId": "dd84c710-f162-4b7d-8ce6-3b6cb25d48a1",
        "colab": {
          "base_uri": "https://localhost:8080/",
          "height": 408
        }
      },
      "source": [
        "slc = slicedTensors[1][0]\n",
        "one_img = slc\n",
        "one_img = one_img[None]\n",
        "one_img = one_img.type('torch.FloatTensor')\n",
        "print(one_img)"
      ],
      "execution_count": 0,
      "outputs": [
        {
          "output_type": "stream",
          "text": [
            "tensor([[[[ 0.2157,  0.2157,  0.2078,  ..., -0.2314, -0.2549, -0.2549],\n",
            "          [ 0.2078,  0.2078,  0.2000,  ..., -0.2392, -0.2627, -0.2627],\n",
            "          [ 0.2000,  0.1922,  0.1922,  ..., -0.2471, -0.2706, -0.2706],\n",
            "          ...,\n",
            "          [ 0.0039,  0.0039, -0.0039,  ..., -0.1373, -0.1765, -0.1765],\n",
            "          [ 0.0039, -0.0039, -0.0039,  ..., -0.1294, -0.1686, -0.1686],\n",
            "          [-0.0118, -0.0118, -0.0118,  ..., -0.1216, -0.1451, -0.1451]],\n",
            "\n",
            "         [[ 0.2549,  0.2549,  0.2471,  ..., -0.2000, -0.1922, -0.1922],\n",
            "          [ 0.2471,  0.2471,  0.2392,  ..., -0.2078, -0.2000, -0.2000],\n",
            "          [ 0.2392,  0.2314,  0.2314,  ..., -0.2157, -0.2078, -0.2078],\n",
            "          ...,\n",
            "          [ 0.0510,  0.0510,  0.0431,  ..., -0.1137, -0.1373, -0.1373],\n",
            "          [ 0.0510,  0.0431,  0.0431,  ..., -0.1059, -0.1294, -0.1294],\n",
            "          [ 0.0353,  0.0353,  0.0353,  ..., -0.0980, -0.0980, -0.0980]],\n",
            "\n",
            "         [[-0.2000, -0.2000, -0.2078,  ..., -0.5922, -0.5608, -0.5608],\n",
            "          [-0.2078, -0.2078, -0.2157,  ..., -0.6000, -0.5686, -0.5686],\n",
            "          [-0.2157, -0.2235, -0.2235,  ..., -0.6078, -0.5765, -0.5765],\n",
            "          ...,\n",
            "          [-0.4980, -0.4980, -0.5059,  ..., -0.5608, -0.5922, -0.5922],\n",
            "          [-0.4980, -0.5059, -0.5059,  ..., -0.5529, -0.5843, -0.5843],\n",
            "          [-0.5137, -0.5137, -0.5137,  ..., -0.5451, -0.5686, -0.5686]]]])\n"
          ],
          "name": "stdout"
        }
      ]
    },
    {
      "cell_type": "code",
      "metadata": {
        "id": "xtFI4TV7H29R",
        "colab_type": "code",
        "outputId": "e2d90d63-5bbd-44fc-beb5-327730e945da",
        "colab": {
          "base_uri": "https://localhost:8080/",
          "height": 34
        }
      },
      "source": [
        "testFullSizes[0].size"
      ],
      "execution_count": 0,
      "outputs": [
        {
          "output_type": "execute_result",
          "data": {
            "text/plain": [
              "(1920, 1090)"
            ]
          },
          "metadata": {
            "tags": []
          },
          "execution_count": 303
        }
      ]
    },
    {
      "cell_type": "code",
      "metadata": {
        "id": "pVgSv8AZDE6A",
        "colab_type": "code",
        "outputId": "8ed7268a-750d-4e37-8ff2-da60ff69630b",
        "colab": {
          "base_uri": "https://localhost:8080/",
          "height": 34
        }
      },
      "source": [
        "tt = trs =  transforms.ToTensor()\n",
        "test_without_grayscale = Image.open(\"/content/gdrive/My Drive/blur_detection/blurred_max.jpg\")\n",
        "print(trs(test_without_grayscale)[0][0][0].type())\n",
        "\n"
      ],
      "execution_count": 0,
      "outputs": [
        {
          "output_type": "stream",
          "text": [
            "torch.FloatTensor\n"
          ],
          "name": "stdout"
        }
      ]
    },
    {
      "cell_type": "code",
      "metadata": {
        "id": "PEOHvZ0IXoyX",
        "colab_type": "code",
        "colab": {}
      },
      "source": [
        "# torch.jit.save(blurDetector, \"/content/gdrive/My Drive/blur_detection/blurDetector.pt\")\n",
        "blurDetector.eval()\n",
        "script = torch.jit.script(blurDetector)\n",
        "script.save(\"/content/gdrive/My Drive/blur_detection/blurDetector6.pt\")"
      ],
      "execution_count": 0,
      "outputs": []
    }
  ]
}